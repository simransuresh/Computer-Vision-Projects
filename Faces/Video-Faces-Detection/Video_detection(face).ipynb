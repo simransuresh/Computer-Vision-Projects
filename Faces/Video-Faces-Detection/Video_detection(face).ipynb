{
 "cells": [
  {
   "cell_type": "code",
   "execution_count": 3,
   "id": "0a6b49da",
   "metadata": {},
   "outputs": [],
   "source": [
    "# Video detection\n",
    "import cv2\n",
    "\n",
    "# start capturing frame from camera\n",
    "video = cv2.VideoCapture(0)\n",
    "\n",
    "# cascade classifier reads the xml input where face features are stored\n",
    "face_identifier = cv2.CascadeClassifier(\"./haarcascade_frontalface_default.xml\")\n",
    "\n",
    "# continuously reads frame from camera\n",
    "while True:\n",
    "    # displays a frame for 30 ms and loops to get subsequent frames until z is pressed\n",
    "    # bitwise AND is used to extract the last 8 bits of the frame\n",
    "    key = cv2.waitKey(1) & 0xff\n",
    "    if key == ord('z'):\n",
    "        break\n",
    "    \n",
    "    # read the frame from camera\n",
    "    check, frame = video.read()\n",
    "    \n",
    "    # Convert to grayscale\n",
    "    gray = cv2.cvtColor(frame, cv2.COLOR_BGR2GRAY)\n",
    "    \n",
    "    # using face features from the Cascase classifier\n",
    "    face = face_identifier.detectMultiScale(gray, 1.1, 4)\n",
    "    \n",
    "    # drawing lines around face after detection\n",
    "    for x, y, w, h in face:\n",
    "        cv2.rectangle(frame, (x, y), (x+w, y+h), (0, 255, 0), 2)\n",
    "    \n",
    "    # showing the current frame as a video through loop\n",
    "    cv2.imshow(\"video\", frame)\n",
    "\n",
    "# close the video \n",
    "video.release()\n",
    "cv2.destroyAllWindows()"
   ]
  },
  {
   "cell_type": "code",
   "execution_count": null,
   "id": "3994bf43",
   "metadata": {},
   "outputs": [],
   "source": []
  }
 ],
 "metadata": {
  "kernelspec": {
   "display_name": "Python 3",
   "language": "python",
   "name": "python3"
  },
  "language_info": {
   "codemirror_mode": {
    "name": "ipython",
    "version": 3
   },
   "file_extension": ".py",
   "mimetype": "text/x-python",
   "name": "python",
   "nbconvert_exporter": "python",
   "pygments_lexer": "ipython3",
   "version": "3.7.3"
  }
 },
 "nbformat": 4,
 "nbformat_minor": 5
}

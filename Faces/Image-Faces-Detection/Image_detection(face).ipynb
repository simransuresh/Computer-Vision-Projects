{
 "cells": [
  {
   "cell_type": "code",
   "execution_count": 3,
   "source": [
    "# Face detection - done for single and multiple faces\r\n",
    "import cv2\r\n",
    "\r\n",
    "# read the image using imread\r\n",
    "faces_image = cv2.imread(\"./faces.png\")\r\n",
    "\r\n",
    "# cascade classifier reads the xml input where face features are stored\r\n",
    "face_identifier = cv2.CascadeClassifier(\"../../haarcascade_frontalface_default.xml\")\r\n",
    "\r\n",
    "# convert the image to a gray scale image using cv2 functions\r\n",
    "gray_image = cv2.cvtColor(faces_image, cv2.COLOR_BGR2GRAY)\r\n",
    "\r\n",
    "# the shape of gray image will be 2D\r\n",
    "gray_image.shape\r\n",
    "\r\n",
    "# using the face features learnt use detect multi scale function to detect faces in the image\r\n",
    "# scalefactor - Parameter specifying how much the image size is reduced at each image scale\r\n",
    "# minNeighbors - Parameter specifying how many neighbors each candidate rectangle should have to retain it\r\n",
    "face = face_identifier.detectMultiScale(gray_image, 1.1, 4)\r\n",
    "\r\n",
    "# draws a rectangle around the face\r\n",
    "# thickness of the line is 2 here\r\n",
    "for x, y, w, h in face:\r\n",
    "    cv2.rectangle(faces_image, (x, y), (x+w, y+h), (0, 255, 0), 2)\r\n",
    "\r\n",
    "# displaying the image\r\n",
    "cv2.imshow(\"face detection\", faces_image)\r\n",
    "\r\n",
    "# captures a single frame and waits till any key is pressed to exit\r\n",
    "cv2.waitKey(0)\r\n",
    "cv2.destroyAllWindows()"
   ],
   "outputs": [],
   "metadata": {}
  },
  {
   "cell_type": "code",
   "execution_count": null,
   "source": [],
   "outputs": [],
   "metadata": {}
  }
 ],
 "metadata": {
  "kernelspec": {
   "display_name": "Python 3",
   "language": "python",
   "name": "python3"
  },
  "language_info": {
   "codemirror_mode": {
    "name": "ipython",
    "version": 3
   },
   "file_extension": ".py",
   "mimetype": "text/x-python",
   "name": "python",
   "nbconvert_exporter": "python",
   "pygments_lexer": "ipython3",
   "version": "3.7.3"
  }
 },
 "nbformat": 4,
 "nbformat_minor": 5
}
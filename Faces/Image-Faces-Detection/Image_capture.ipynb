{
 "cells": [
  {
   "cell_type": "code",
   "execution_count": 72,
   "id": "af21aff0",
   "metadata": {},
   "outputs": [],
   "source": [
    "# Acquire image from local storage and display the image\n",
    "\n",
    "# importing python computer vision library\n",
    "import cv2\n",
    "\n",
    "# reading the image in the given path using imread - converts image to pixel\n",
    "input_image = cv2.imread(\"./face_img_apj.jpg\")\n",
    "\n",
    "# 3D in case of color image and 2D in case of gray scale image\n",
    "input_image.shape\n",
    "\n",
    "# using imshow to display the image using imshow - converts pixel back to image\n",
    "cv2.imshow(\"Face of APJ\", input_image)\n",
    "\n",
    "# waits till any key is pressed. \n",
    "# if time=3000 milliseconds is given, image exists till that time and closes\n",
    "cv2.waitKey(0)\n",
    "\n",
    "# closes the image display after waitkey\n",
    "cv2.destroyAllWindows()"
   ]
  }
 ],
 "metadata": {
  "kernelspec": {
   "display_name": "Python 3",
   "language": "python",
   "name": "python3"
  },
  "language_info": {
   "codemirror_mode": {
    "name": "ipython",
    "version": 3
   },
   "file_extension": ".py",
   "mimetype": "text/x-python",
   "name": "python",
   "nbconvert_exporter": "python",
   "pygments_lexer": "ipython3",
   "version": "3.7.3"
  }
 },
 "nbformat": 4,
 "nbformat_minor": 5
}

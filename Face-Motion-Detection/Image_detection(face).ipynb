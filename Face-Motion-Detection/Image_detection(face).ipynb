{
 "cells": [
  {
   "cell_type": "code",
   "execution_count": 3,
   "id": "c7b2a882",
   "metadata": {},
   "outputs": [],
   "source": [
    "# Face detection - done for single and multiple faces\n",
    "import cv2\n",
    "\n",
    "# read the image using imread\n",
    "faces_image = cv2.imread(\"./faces.png\")\n",
    "\n",
    "# cascade classifier reads the xml input where face features are stored\n",
    "face_identifier = cv2.CascadeClassifier(\"./haarcascade_frontalface_default.xml\")\n",
    "\n",
    "# convert the image to a gray scale image using cv2 functions\n",
    "gray_image = cv2.cvtColor(faces_image, cv2.COLOR_BGR2GRAY)\n",
    "\n",
    "# the shape of gray image will be 2D\n",
    "gray_image.shape\n",
    "\n",
    "# using the face features learnt use detect multi scale function to detect faces in the image\n",
    "# scalefactor - Parameter specifying how much the image size is reduced at each image scale\n",
    "# minNeighbors - Parameter specifying how many neighbors each candidate rectangle should have to retain it\n",
    "face = face_identifier.detectMultiScale(gray_image, 1.1, 4)\n",
    "\n",
    "# draws a rectangle around the face\n",
    "# thickness of the line is 2 here\n",
    "for x, y, w, h in face:\n",
    "    cv2.rectangle(faces_image, (x, y), (x+w, y+h), (0, 255, 0), 2)\n",
    "\n",
    "# displaying the image\n",
    "cv2.imshow(\"face detection\", faces_image)\n",
    "\n",
    "# captures a single frame and waits till any key is pressed to exit\n",
    "cv2.waitKey(0)\n",
    "cv2.destroyAllWindows()"
   ]
  },
  {
   "cell_type": "code",
   "execution_count": null,
   "id": "43069d1b",
   "metadata": {},
   "outputs": [],
   "source": []
  }
 ],
 "metadata": {
  "kernelspec": {
   "display_name": "Python 3",
   "language": "python",
   "name": "python3"
  },
  "language_info": {
   "codemirror_mode": {
    "name": "ipython",
    "version": 3
   },
   "file_extension": ".py",
   "mimetype": "text/x-python",
   "name": "python",
   "nbconvert_exporter": "python",
   "pygments_lexer": "ipython3",
   "version": "3.7.3"
  }
 },
 "nbformat": 4,
 "nbformat_minor": 5
}
